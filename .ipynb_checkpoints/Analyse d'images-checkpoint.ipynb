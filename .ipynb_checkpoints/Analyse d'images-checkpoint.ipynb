{
 "cells": [
  {
   "cell_type": "markdown",
   "metadata": {},
   "source": [
    "### L'objectif de cette feuille est de construire une IA capable de reconnaître des chiffres manuscrits."
   ]
  },
  {
   "cell_type": "markdown",
   "metadata": {},
   "source": [
    "***"
   ]
  },
  {
   "cell_type": "markdown",
   "metadata": {},
   "source": [
    "# Partie 1 - Comprendre les données utilisées"
   ]
  },
  {
   "cell_type": "markdown",
   "metadata": {},
   "source": [
    "On importe les librairies qui nous seront utiles pour cette partie :  \n",
    "- __MNIST__ : pour l'import de la base de données MNIST contenant 70 000 chiffres manuscrits  \n",
    "- __Numpy__ : pour travailler facilement des tableaux / matrices de données  \n",
    "- __Matplotlib.pyplot__ : pour faire des graphiques    "
   ]
  },
  {
   "cell_type": "code",
   "execution_count": 2,
   "metadata": {
    "collapsed": true
   },
   "outputs": [],
   "source": [
    "from mnist import MNIST\n",
    "import numpy as np\n",
    "import matplotlib.pyplot as plt"
   ]
  },
  {
   "cell_type": "markdown",
   "metadata": {},
   "source": [
    "On importe les données du use case :\n",
    "- un dataset de données __images_train__ et __labels_train__ qu'on utilisera pour l'entraînement de l'intelligence artificielle\n",
    "- un dataset de données __images_test__ et __labels_test__ qu'on utilisera pour tester l'intelligence artificielle    "
   ]
  },
  {
   "cell_type": "code",
   "execution_count": 3,
   "metadata": {
    "collapsed": true
   },
   "outputs": [],
   "source": [
    "mndata = MNIST('./Resources')\n",
    "images_train, labels_train = mndata.load_training()\n",
    "images_test, labels_test = mndata.load_testing()"
   ]
  },
  {
   "cell_type": "markdown",
   "metadata": {},
   "source": [
    "Les données d'entraînement et de test sont composées de :\n",
    "- une liste d'images représentant chacune un chiffre manuscrit : __images_train__ (pour l'entraînement), __images_test__ (pour le test)\n",
    "- une liste de labels représentant chacun le chiffre que l'image est censée représenter __labels_train__ (pour l'entraînement), __labels_test__ (pour le test)\n",
    "\n",
    "A noter que le ième élément des listes de labels __label_train__ et __label_test__ représente respectivement le label de la ième image de la liste des images __images_train__ et __images_test__ \n",
    "\n",
    "Chaque image est représentée par une liste de 784 valeurs comprises entre 0 et 255 (les pixels).  \n",
    "Chaque valeur représente le niveau de gris d'un pixel (0 = noir, 255 = blanc)  \n",
    "\n",
    "On peut le vérifier avec le code suivant :"
   ]
  },
  {
   "cell_type": "code",
   "execution_count": 4,
   "metadata": {},
   "outputs": [
    {
     "name": "stdout",
     "output_type": "stream",
     "text": [
      "Nombre d'images dans l'échantillon d'entraînement : 60000\n",
      "Nombre d'images dans l'échantillon de test : 10000\n"
     ]
    }
   ],
   "source": [
    "n_train = len(images_train) # nombre d'éléments dans la liste images_train\n",
    "n_test = len(images_test) # nombre d'éléments dans la liste images_test\n",
    "print(\"Nombre d'images dans l'échantillon d'entraînement : \" + str(n_train))\n",
    "print(\"Nombre d'images dans l'échantillon de test : \" + str(n_test))"
   ]
  },
  {
   "cell_type": "code",
   "execution_count": 5,
   "metadata": {},
   "outputs": [
    {
     "name": "stdout",
     "output_type": "stream",
     "text": [
      "Nombre de pixels dans une image : 784\n",
      "Exemple de représentation d'une image : [0, 0, 0, 0, 0, 0, 0, 0, 0, 0, 0, 0, 0, 0, 0, 0, 0, 0, 0, 0, 0, 0, 0, 0, 0, 0, 0, 0, 0, 0, 0, 0, 0, 0, 0, 0, 0, 0, 0, 0, 0, 0, 0, 0, 0, 0, 0, 0, 0, 0, 0, 0, 0, 0, 0, 0, 0, 0, 0, 0, 0, 0, 0, 0, 0, 0, 0, 0, 0, 0, 0, 0, 0, 0, 0, 0, 0, 0, 0, 0, 0, 0, 0, 0, 0, 0, 0, 0, 0, 0, 0, 0, 0, 0, 0, 0, 0, 0, 0, 0, 0, 0, 0, 0, 0, 0, 0, 0, 0, 0, 0, 0, 0, 0, 0, 0, 0, 0, 0, 0, 0, 0, 0, 0, 0, 0, 0, 0, 0, 0, 0, 0, 0, 0, 0, 0, 0, 0, 0, 0, 0, 0, 0, 0, 0, 0, 0, 0, 0, 0, 0, 0, 3, 18, 18, 18, 126, 136, 175, 26, 166, 255, 247, 127, 0, 0, 0, 0, 0, 0, 0, 0, 0, 0, 0, 0, 30, 36, 94, 154, 170, 253, 253, 253, 253, 253, 225, 172, 253, 242, 195, 64, 0, 0, 0, 0, 0, 0, 0, 0, 0, 0, 0, 49, 238, 253, 253, 253, 253, 253, 253, 253, 253, 251, 93, 82, 82, 56, 39, 0, 0, 0, 0, 0, 0, 0, 0, 0, 0, 0, 0, 18, 219, 253, 253, 253, 253, 253, 198, 182, 247, 241, 0, 0, 0, 0, 0, 0, 0, 0, 0, 0, 0, 0, 0, 0, 0, 0, 0, 0, 80, 156, 107, 253, 253, 205, 11, 0, 43, 154, 0, 0, 0, 0, 0, 0, 0, 0, 0, 0, 0, 0, 0, 0, 0, 0, 0, 0, 0, 14, 1, 154, 253, 90, 0, 0, 0, 0, 0, 0, 0, 0, 0, 0, 0, 0, 0, 0, 0, 0, 0, 0, 0, 0, 0, 0, 0, 0, 0, 139, 253, 190, 2, 0, 0, 0, 0, 0, 0, 0, 0, 0, 0, 0, 0, 0, 0, 0, 0, 0, 0, 0, 0, 0, 0, 0, 0, 11, 190, 253, 70, 0, 0, 0, 0, 0, 0, 0, 0, 0, 0, 0, 0, 0, 0, 0, 0, 0, 0, 0, 0, 0, 0, 0, 0, 0, 35, 241, 225, 160, 108, 1, 0, 0, 0, 0, 0, 0, 0, 0, 0, 0, 0, 0, 0, 0, 0, 0, 0, 0, 0, 0, 0, 0, 0, 81, 240, 253, 253, 119, 25, 0, 0, 0, 0, 0, 0, 0, 0, 0, 0, 0, 0, 0, 0, 0, 0, 0, 0, 0, 0, 0, 0, 0, 45, 186, 253, 253, 150, 27, 0, 0, 0, 0, 0, 0, 0, 0, 0, 0, 0, 0, 0, 0, 0, 0, 0, 0, 0, 0, 0, 0, 0, 16, 93, 252, 253, 187, 0, 0, 0, 0, 0, 0, 0, 0, 0, 0, 0, 0, 0, 0, 0, 0, 0, 0, 0, 0, 0, 0, 0, 0, 0, 249, 253, 249, 64, 0, 0, 0, 0, 0, 0, 0, 0, 0, 0, 0, 0, 0, 0, 0, 0, 0, 0, 0, 0, 0, 46, 130, 183, 253, 253, 207, 2, 0, 0, 0, 0, 0, 0, 0, 0, 0, 0, 0, 0, 0, 0, 0, 0, 0, 0, 0, 39, 148, 229, 253, 253, 253, 250, 182, 0, 0, 0, 0, 0, 0, 0, 0, 0, 0, 0, 0, 0, 0, 0, 0, 0, 0, 24, 114, 221, 253, 253, 253, 253, 201, 78, 0, 0, 0, 0, 0, 0, 0, 0, 0, 0, 0, 0, 0, 0, 0, 0, 0, 23, 66, 213, 253, 253, 253, 253, 198, 81, 2, 0, 0, 0, 0, 0, 0, 0, 0, 0, 0, 0, 0, 0, 0, 0, 0, 18, 171, 219, 253, 253, 253, 253, 195, 80, 9, 0, 0, 0, 0, 0, 0, 0, 0, 0, 0, 0, 0, 0, 0, 0, 0, 55, 172, 226, 253, 253, 253, 253, 244, 133, 11, 0, 0, 0, 0, 0, 0, 0, 0, 0, 0, 0, 0, 0, 0, 0, 0, 0, 0, 136, 253, 253, 253, 212, 135, 132, 16, 0, 0, 0, 0, 0, 0, 0, 0, 0, 0, 0, 0, 0, 0, 0, 0, 0, 0, 0, 0, 0, 0, 0, 0, 0, 0, 0, 0, 0, 0, 0, 0, 0, 0, 0, 0, 0, 0, 0, 0, 0, 0, 0, 0, 0, 0, 0, 0, 0, 0, 0, 0, 0, 0, 0, 0, 0, 0, 0, 0, 0, 0, 0, 0, 0, 0, 0, 0, 0, 0, 0, 0, 0, 0, 0, 0, 0, 0, 0, 0, 0, 0, 0, 0, 0, 0, 0, 0, 0, 0, 0, 0, 0, 0, 0, 0, 0, 0, 0, 0]\n",
      "Exemple de label d'une image : 5\n"
     ]
    }
   ],
   "source": [
    "n_pxl = len(images_train[0]) # nombre d'éléments dans le premier élément de images_train (qui est également une liste)\n",
    "print(\"Nombre de pixels dans une image : \" + str(n_pxl))\n",
    "print(\"Exemple de représentation d'une image : \" + str(images_train[0]))\n",
    "print(\"Exemple de label d'une image : \" + str(labels_train[0]))"
   ]
  },
  {
   "cell_type": "markdown",
   "metadata": {},
   "source": [
    "### <font color=\"red\">Q1.1 : Comment rendre visuelle une image de la base de données d'entraînement à partir de sa représentation informatique (une liste de 784 valeurs) ? </font>"
   ]
  },
  {
   "cell_type": "code",
   "execution_count": 7,
   "metadata": {
    "collapsed": true
   },
   "outputs": [],
   "source": [
    "# %load Solutions/Q11.py\n",
    "def aff_image(image, title, ax = None): \n",
    "    # on recompose l'image sous forme de tableau contenant 28x28 pixels (car 28x28 = 784)\n",
    "    # puis on demande à l'afficher sous forme de graphique\n",
    "    image_reshape = np.array(image).reshape(28,28, order='C')\n",
    "    if ax is None:\n",
    "        f, ax = plt.subplots(1,1)\n",
    "    ax.imshow(image_reshape, cmap='gray')\n",
    "    ax.set_title(title)"
   ]
  },
  {
   "cell_type": "code",
   "execution_count": 8,
   "metadata": {},
   "outputs": [
    {
     "data": {
      "image/png": "[encoded data removed]",
      "text/plain": [
       "<matplotlib.figure.Figure at 0x1146fcc50>"
      ]
     },
     "metadata": {},
     "output_type": "display_data"
    }
   ],
   "source": [
    "# on teste la fonction aff_image sur une image de la base de données d'entraînement\n",
    "idx = 1000\n",
    "aff_image(image = images_train[idx], \\\n",
    "          title = \"Label : \" + str(labels_train[idx]))\n",
    "plt.show()"
   ]
  },
  {
   "cell_type": "markdown",
   "metadata": {},
   "source": [
    "### <font color=\"red\">Q1.2 : Les données utilisées pour entraîner et tester l'IA sont cruciales pour créer une IA de bonne qualité. Quelle(s) analyse(s) peut-on faire sur les données d'entraînement et de test pour s'assurer que l'IA sera de bonne qualité et anticiper ses limites ? </font>"
   ]
  },
  {
   "cell_type": "code",
   "execution_count": 23,
   "metadata": {},
   "outputs": [
    {
     "data": {
      "image/png": "[encoded data removed]",
      "text/plain": [
       "<matplotlib.figure.Figure at 0x11cfd1e80>"
      ]
     },
     "metadata": {},
     "output_type": "display_data"
    },
    {
     "data": {
      "image/png": "[encoded data removed]",
      "text/plain": [
       "<matplotlib.figure.Figure at 0x11c984be0>"
      ]
     },
     "metadata": {},
     "output_type": "display_data"
    }
   ],
   "source": [
    "# %load Solutions/Q12.py\n",
    "# Idée 1 : afficher la distribution des chiffres réprésentés sur les images\n",
    "plt.figure(figsize = (10,5))\n",
    "plt.hist([labels_train, labels_test], bins = np.arange(0,11) - 0.5, ec='black', \\\n",
    "        weights=[np.ones(len(labels_train)) / len(labels_train), np.ones(len(labels_test)) / len(labels_test)], \\\n",
    "        label = [\"Entraînement\", \"Test\"])\n",
    "plt.xlabel(\"Chiffres manuscrits\")\n",
    "plt.ylabel(\"Fréquence d'occurrence\")\n",
    "plt.xticks(range(0,10))\n",
    "plt.title(\"Distribution des échantillons\")\n",
    "plt.legend(loc='upper right')\n",
    "plt.show()\n",
    "\n",
    "# Idée 2 : afficher l'image moyenne des échantillons d'entraînement et de test\n",
    "# chaque pixel de cette image représente la moyenne des mêmes pixels de chaque image de l'échantillon\n",
    "average_image_train = [sum([image[i] for image in images_train])/len(images_train) for i in range(0,784)]\n",
    "average_image_test = [sum([image[i] for image in images_test])/len(images_test) for i in range(0,784)]\n",
    "\n",
    "# on affiche chacune des images moyennes ainsi calculées\n",
    "f, axis = plt.subplots(1,2, figsize=(10,5))\n",
    "aff_image(image = average_image_train, \\\n",
    "          title = \"Image moyenne (échantillon d'entraînement)\", \\\n",
    "          ax = axis[0])\n",
    "aff_image(image = average_image_test, \\\n",
    "          title = \"Image moyenne (échantillon de test)\", \\\n",
    "          ax = axis[1])\n",
    "plt.show()"
   ]
  },
  {
   "cell_type": "markdown",
   "metadata": {},
   "source": [
    "### <font color=\"red\">Q1.3 : Au vu des résultats précédents, quelles limites de l'IA peut-on anticiper ? </font>"
   ]
  },
  {
   "cell_type": "code",
   "execution_count": null,
   "metadata": {
    "collapsed": true
   },
   "outputs": [],
   "source": []
  },
  {
   "cell_type": "markdown",
   "metadata": {},
   "source": [
    "---"
   ]
  },
  {
   "cell_type": "markdown",
   "metadata": {},
   "source": [
    "# Partie 2 - Construction d'un réseau de neurones artificiels"
   ]
  },
  {
   "cell_type": "markdown",
   "metadata": {},
   "source": [
    "Avant de définir les réseaux de neurones artificiels, introduisons ce qu'est ici un neurone.  \n",
    "Un neurone est un \"objet\" informatique dont l'objectif est de __prédire un nombre $Y$ à partir de paramètres qu'on lui donne en entrée $I_{1}, ..., I_{N}$__.  \n",
    "Pour cela, il est composé de plusieurs éléments :\n",
    "- Ses __coefficients__ $W_{1}, ..., W_{N}$ qui mesureront l'importance relative des prédicteurs $I_{1}, ..., I_{N}$ sur la prédiction à réaliser. Le neurone apprendra tout seul à ajuster ses coefficients grâce à la base de données à partir de laquelle on l'entraînera \n",
    "- Sa __fonction d'activation__ qui doit être une fonction non linéaire et qui permet essentiellement au neurone de résoudre des problèmes non linéaires\n",
    "- Sa __fonction de coût__ (loss function en anglais) qui lui permettra de mesurer à quel point ses prédictions sont conformes à la réalité et ajuster tous les coefficients de ses neurones en conséquence\n",
    "- Sa __fonction d'optimisation__ (optimizer en anglais) qui est un algorithme permettant de minimiser la fonction de coût\n",
    "- Son __pas d'apprentissage__ (learning rate en anglais) qui lui permettra d'apprendre plus ou moins vite (avec le risque, s'il apprend trop vite de ne pas réussir à minimiser la fonction de coût)\n",
    "\n",
    "Comment il fonctionne en pratique ?  \n",
    "- Il reçoit en entrée des paramètres $I_{1}, ..., I_{N}$ qui correspondent aux prédicteurs\n",
    "- Il effectue la combinaison linéaire des paramètres en entrée avec ses __coefficients__ $W_{1}, ..., W_{N}$ : $\\sigma = W_{1}I_{1} + ... + W_{1}I_{N}$\n",
    "- Il applique à cette combinaison linéaire $\\sigma$ sa __fonction d'activation__ pour \"casser\" la linéarité et retourne un chiffre qui correspond à sa prédiction $\\widehat{Y}$\n",
    "- Il compare sa prédiction $\\widehat{Y}$ avec la valeur attendue $Y$ dont il mesure la distance grâce à sa __fonction de coût__\n",
    "- En fonction de la distance entre sa prédiction et la valeur attendue, de sa __fonction d'optimisation__ et de son __pas d'apprentissage__, il ajuste ses __coefficients__ $W_{1}, ..., W_{N}$\n",
    "- Il réitère l'ensemble des étapes ci-dessus sur chaque donnée d'entraînement (en pratique, il effectue ces opérations par \"batch\" de données d'entraînement pour accélérer les calculs)"
   ]
  },
  {
   "cell_type": "markdown",
   "metadata": {},
   "source": [
    "![title](Resources/Neurone.jpg)"
   ]
  },
  {
   "cell_type": "markdown",
   "metadata": {},
   "source": [
    "Un seul neurone n'est souvent pas suffisant pour obtenir de bons résultats car il ne calcule des coefficient que sur chaque paramètre d'entrée _pris individuellement_.   \n",
    "On construit donc une architecture de neurones appelée __réseau de neurones artificiels__ qui va multiplier les possibilités de combinaisons des paramètres d'entrée. Un réseau de neurones artificiels est composé d'une ou plusieurs couche(s) de neurones, chacune comprenant plusieurs neurones. Chaque neurone peut alors envoyer son résultat à d'autres neurones.  \n",
    "Par souci de cohérence, chaque neurone d'une même couche aura la même fonction d'activation et tous les neurones de l'architecture auront les mêmes fonctions de coût, fonctions d'optimisation et pas d'apprentissage.  \n",
    "Cette architecture, un peu \"bourrine\", est toutefois redoutablement efficace, comme nous allons le voir !"
   ]
  },
  {
   "cell_type": "markdown",
   "metadata": {},
   "source": [
    "![Exemple de réseau de neurones à deux couches](Resources/Réseau de neurones.png)"
   ]
  },
  {
   "cell_type": "markdown",
   "metadata": {},
   "source": [
    "Pour commencer, on importe les librairies dont on aura besoin : \n",
    "- __keras__ : librairie facile à utiliser pour créer des réseaux de neurones artificiels\n",
    "- __scikit-learn__ : librairie très répandue de machine learning, qui nous permettra ici de travailler facilement les données du problème\n",
    "- __random__ : pour générer des nombres au hasard"
   ]
  },
  {
   "cell_type": "code",
   "execution_count": 11,
   "metadata": {},
   "outputs": [
    {
     "name": "stderr",
     "output_type": "stream",
     "text": [
      "Using TensorFlow backend.\n",
      "/Users/hugofayolle/anaconda3/lib/python3.6/importlib/_bootstrap.py:205: RuntimeWarning: compiletime version 3.5 of module 'tensorflow.python.framework.fast_tensor_util' does not match runtime version 3.6\n",
      "  return f(*args, **kwds)\n"
     ]
    }
   ],
   "source": [
    "import keras\n",
    "from keras.models import Sequential\n",
    "from keras.layers import Dense, Activation, Dropout\n",
    "from keras import optimizers\n",
    "\n",
    "from sklearn import preprocessing\n",
    "from sklearn.preprocessing import OneHotEncoder\n",
    "from sklearn.metrics import accuracy_score\n",
    "\n",
    "import random"
   ]
  },
  {
   "cell_type": "markdown",
   "metadata": {},
   "source": [
    "### <font color=\"red\">Q2.1 : Pour notre problème, quels paramètres (et combien y en aura-t-il ?) devra prendre notre réseau de neurones en entrée ?</font>"
   ]
  },
  {
   "cell_type": "code",
   "execution_count": null,
   "metadata": {
    "collapsed": true
   },
   "outputs": [],
   "source": []
  },
  {
   "cell_type": "markdown",
   "metadata": {},
   "source": [
    "### <font color=\"red\">Q2.2 : Combien de neurones doit-il y avoir dans la dernière couche ? Quelle sera la forme de la sortie du réseau de neurones ? Comment doit-on modifier les labels pour entraîner le réseau correctement ? Comment interpréter le résultat que le réseau donnera ?</font>"
   ]
  },
  {
   "cell_type": "code",
   "execution_count": null,
   "metadata": {},
   "outputs": [],
   "source": [
    "# %load Solutions/Q22-Encodage.py\n",
    "# Encodage des labels pour être conforme aux données de sortie du réseau de neurones\n",
    "onehotencoder = OneHotEncoder()\n",
    "encoded_labels_train = onehotencoder.fit_transform(np.array(labels_train).reshape(-1,1)).toarray()\n",
    "encoded_labels_test = onehotencoder.transform(np.array(labels_test).reshape(-1,1)).toarray()\n",
    "\n",
    "# on vérifie le résultat\n",
    "print(\"Le label d'entraînement \" + str(labels_train[0]) + \" a été encodé en \" + str(encoded_labels_train[0]))\n",
    "print(\"Le label de test \" + str(labels_test[0]) + \" a été encodé en \" + str(encoded_labels_test[0]))"
   ]
  },
  {
   "cell_type": "code",
   "execution_count": 20,
   "metadata": {},
   "outputs": [
    {
     "ename": "ValueError",
     "evalue": "'Solutions/Q22-Interpretation.py' was not found in history, as a file, url, nor in the user namespace.",
     "output_type": "error",
     "traceback": [
      "\u001b[0;31m---------------------------------------------------------------------------\u001b[0m",
      "\u001b[0;31mNameError\u001b[0m                                 Traceback (most recent call last)",
      "\u001b[0;32m~/anaconda3/lib/python3.6/site-packages/IPython/core/interactiveshell.py\u001b[0m in \u001b[0;36mfind_user_code\u001b[0;34m(self, target, raw, py_only, skip_encoding_cookie, search_ns)\u001b[0m\n\u001b[1;32m   3161\u001b[0m         \u001b[0;32mtry\u001b[0m\u001b[0;34m:\u001b[0m                                              \u001b[0;31m# User namespace\u001b[0m\u001b[0;34m\u001b[0m\u001b[0m\n\u001b[0;32m-> 3162\u001b[0;31m             \u001b[0mcodeobj\u001b[0m \u001b[0;34m=\u001b[0m \u001b[0meval\u001b[0m\u001b[0;34m(\u001b[0m\u001b[0mtarget\u001b[0m\u001b[0;34m,\u001b[0m \u001b[0mself\u001b[0m\u001b[0;34m.\u001b[0m\u001b[0muser_ns\u001b[0m\u001b[0;34m)\u001b[0m\u001b[0;34m\u001b[0m\u001b[0m\n\u001b[0m\u001b[1;32m   3163\u001b[0m         \u001b[0;32mexcept\u001b[0m \u001b[0mException\u001b[0m\u001b[0;34m:\u001b[0m\u001b[0;34m\u001b[0m\u001b[0m\n",
      "\u001b[0;32m<string>\u001b[0m in \u001b[0;36m<module>\u001b[0;34m()\u001b[0m\n",
      "\u001b[0;31mNameError\u001b[0m: name 'Solutions' is not defined",
      "\nDuring handling of the above exception, another exception occurred:\n",
      "\u001b[0;31mValueError\u001b[0m                                Traceback (most recent call last)",
      "\u001b[0;32m<ipython-input-20-f0b4943f3ec2>\u001b[0m in \u001b[0;36m<module>\u001b[0;34m()\u001b[0m\n\u001b[0;32m----> 1\u001b[0;31m \u001b[0mget_ipython\u001b[0m\u001b[0;34m(\u001b[0m\u001b[0;34m)\u001b[0m\u001b[0;34m.\u001b[0m\u001b[0mmagic\u001b[0m\u001b[0;34m(\u001b[0m\u001b[0;34m'load Solutions/Q22-Interpretation.py'\u001b[0m\u001b[0;34m)\u001b[0m\u001b[0;34m\u001b[0m\u001b[0m\n\u001b[0m",
      "\u001b[0;32m~/anaconda3/lib/python3.6/site-packages/IPython/core/interactiveshell.py\u001b[0m in \u001b[0;36mmagic\u001b[0;34m(self, arg_s)\u001b[0m\n\u001b[1;32m   2144\u001b[0m         \u001b[0mmagic_name\u001b[0m\u001b[0;34m,\u001b[0m \u001b[0m_\u001b[0m\u001b[0;34m,\u001b[0m \u001b[0mmagic_arg_s\u001b[0m \u001b[0;34m=\u001b[0m \u001b[0marg_s\u001b[0m\u001b[0;34m.\u001b[0m\u001b[0mpartition\u001b[0m\u001b[0;34m(\u001b[0m\u001b[0;34m' '\u001b[0m\u001b[0;34m)\u001b[0m\u001b[0;34m\u001b[0m\u001b[0m\n\u001b[1;32m   2145\u001b[0m         \u001b[0mmagic_name\u001b[0m \u001b[0;34m=\u001b[0m \u001b[0mmagic_name\u001b[0m\u001b[0;34m.\u001b[0m\u001b[0mlstrip\u001b[0m\u001b[0;34m(\u001b[0m\u001b[0mprefilter\u001b[0m\u001b[0;34m.\u001b[0m\u001b[0mESC_MAGIC\u001b[0m\u001b[0;34m)\u001b[0m\u001b[0;34m\u001b[0m\u001b[0m\n\u001b[0;32m-> 2146\u001b[0;31m         \u001b[0;32mreturn\u001b[0m \u001b[0mself\u001b[0m\u001b[0;34m.\u001b[0m\u001b[0mrun_line_magic\u001b[0m\u001b[0;34m(\u001b[0m\u001b[0mmagic_name\u001b[0m\u001b[0;34m,\u001b[0m \u001b[0mmagic_arg_s\u001b[0m\u001b[0;34m)\u001b[0m\u001b[0;34m\u001b[0m\u001b[0m\n\u001b[0m\u001b[1;32m   2147\u001b[0m \u001b[0;34m\u001b[0m\u001b[0m\n\u001b[1;32m   2148\u001b[0m     \u001b[0;31m#-------------------------------------------------------------------------\u001b[0m\u001b[0;34m\u001b[0m\u001b[0;34m\u001b[0m\u001b[0m\n",
      "\u001b[0;32m~/anaconda3/lib/python3.6/site-packages/IPython/core/interactiveshell.py\u001b[0m in \u001b[0;36mrun_line_magic\u001b[0;34m(self, magic_name, line)\u001b[0m\n\u001b[1;32m   2065\u001b[0m                 \u001b[0mkwargs\u001b[0m\u001b[0;34m[\u001b[0m\u001b[0;34m'local_ns'\u001b[0m\u001b[0;34m]\u001b[0m \u001b[0;34m=\u001b[0m \u001b[0msys\u001b[0m\u001b[0;34m.\u001b[0m\u001b[0m_getframe\u001b[0m\u001b[0;34m(\u001b[0m\u001b[0mstack_depth\u001b[0m\u001b[0;34m)\u001b[0m\u001b[0;34m.\u001b[0m\u001b[0mf_locals\u001b[0m\u001b[0;34m\u001b[0m\u001b[0m\n\u001b[1;32m   2066\u001b[0m             \u001b[0;32mwith\u001b[0m \u001b[0mself\u001b[0m\u001b[0;34m.\u001b[0m\u001b[0mbuiltin_trap\u001b[0m\u001b[0;34m:\u001b[0m\u001b[0;34m\u001b[0m\u001b[0m\n\u001b[0;32m-> 2067\u001b[0;31m                 \u001b[0mresult\u001b[0m \u001b[0;34m=\u001b[0m \u001b[0mfn\u001b[0m\u001b[0;34m(\u001b[0m\u001b[0;34m*\u001b[0m\u001b[0margs\u001b[0m\u001b[0;34m,\u001b[0m\u001b[0;34m**\u001b[0m\u001b[0mkwargs\u001b[0m\u001b[0;34m)\u001b[0m\u001b[0;34m\u001b[0m\u001b[0m\n\u001b[0m\u001b[1;32m   2068\u001b[0m             \u001b[0;32mreturn\u001b[0m \u001b[0mresult\u001b[0m\u001b[0;34m\u001b[0m\u001b[0m\n\u001b[1;32m   2069\u001b[0m \u001b[0;34m\u001b[0m\u001b[0m\n",
      "\u001b[0;32m<decorator-gen-47>\u001b[0m in \u001b[0;36mload\u001b[0;34m(self, arg_s)\u001b[0m\n",
      "\u001b[0;32m~/anaconda3/lib/python3.6/site-packages/IPython/core/magic.py\u001b[0m in \u001b[0;36m<lambda>\u001b[0;34m(f, *a, **k)\u001b[0m\n\u001b[1;32m    185\u001b[0m     \u001b[0;31m# but it's overkill for just that one bit of state.\u001b[0m\u001b[0;34m\u001b[0m\u001b[0;34m\u001b[0m\u001b[0m\n\u001b[1;32m    186\u001b[0m     \u001b[0;32mdef\u001b[0m \u001b[0mmagic_deco\u001b[0m\u001b[0;34m(\u001b[0m\u001b[0marg\u001b[0m\u001b[0;34m)\u001b[0m\u001b[0;34m:\u001b[0m\u001b[0;34m\u001b[0m\u001b[0m\n\u001b[0;32m--> 187\u001b[0;31m         \u001b[0mcall\u001b[0m \u001b[0;34m=\u001b[0m \u001b[0;32mlambda\u001b[0m \u001b[0mf\u001b[0m\u001b[0;34m,\u001b[0m \u001b[0;34m*\u001b[0m\u001b[0ma\u001b[0m\u001b[0;34m,\u001b[0m \u001b[0;34m**\u001b[0m\u001b[0mk\u001b[0m\u001b[0;34m:\u001b[0m \u001b[0mf\u001b[0m\u001b[0;34m(\u001b[0m\u001b[0;34m*\u001b[0m\u001b[0ma\u001b[0m\u001b[0;34m,\u001b[0m \u001b[0;34m**\u001b[0m\u001b[0mk\u001b[0m\u001b[0;34m)\u001b[0m\u001b[0;34m\u001b[0m\u001b[0m\n\u001b[0m\u001b[1;32m    188\u001b[0m \u001b[0;34m\u001b[0m\u001b[0m\n\u001b[1;32m    189\u001b[0m         \u001b[0;32mif\u001b[0m \u001b[0mcallable\u001b[0m\u001b[0;34m(\u001b[0m\u001b[0marg\u001b[0m\u001b[0;34m)\u001b[0m\u001b[0;34m:\u001b[0m\u001b[0;34m\u001b[0m\u001b[0m\n",
      "\u001b[0;32m~/anaconda3/lib/python3.6/site-packages/IPython/core/magics/code.py\u001b[0m in \u001b[0;36mload\u001b[0;34m(self, arg_s)\u001b[0m\n\u001b[1;32m    342\u001b[0m         \u001b[0msearch_ns\u001b[0m \u001b[0;34m=\u001b[0m \u001b[0;34m'n'\u001b[0m \u001b[0;32min\u001b[0m \u001b[0mopts\u001b[0m\u001b[0;34m\u001b[0m\u001b[0m\n\u001b[1;32m    343\u001b[0m \u001b[0;34m\u001b[0m\u001b[0m\n\u001b[0;32m--> 344\u001b[0;31m         \u001b[0mcontents\u001b[0m \u001b[0;34m=\u001b[0m \u001b[0mself\u001b[0m\u001b[0;34m.\u001b[0m\u001b[0mshell\u001b[0m\u001b[0;34m.\u001b[0m\u001b[0mfind_user_code\u001b[0m\u001b[0;34m(\u001b[0m\u001b[0margs\u001b[0m\u001b[0;34m,\u001b[0m \u001b[0msearch_ns\u001b[0m\u001b[0;34m=\u001b[0m\u001b[0msearch_ns\u001b[0m\u001b[0;34m)\u001b[0m\u001b[0;34m\u001b[0m\u001b[0m\n\u001b[0m\u001b[1;32m    345\u001b[0m \u001b[0;34m\u001b[0m\u001b[0m\n\u001b[1;32m    346\u001b[0m         \u001b[0;32mif\u001b[0m \u001b[0;34m's'\u001b[0m \u001b[0;32min\u001b[0m \u001b[0mopts\u001b[0m\u001b[0;34m:\u001b[0m\u001b[0;34m\u001b[0m\u001b[0m\n",
      "\u001b[0;32m~/anaconda3/lib/python3.6/site-packages/IPython/core/interactiveshell.py\u001b[0m in \u001b[0;36mfind_user_code\u001b[0;34m(self, target, raw, py_only, skip_encoding_cookie, search_ns)\u001b[0m\n\u001b[1;32m   3163\u001b[0m         \u001b[0;32mexcept\u001b[0m \u001b[0mException\u001b[0m\u001b[0;34m:\u001b[0m\u001b[0;34m\u001b[0m\u001b[0m\n\u001b[1;32m   3164\u001b[0m             raise ValueError((\"'%s' was not found in history, as a file, url, \"\n\u001b[0;32m-> 3165\u001b[0;31m                                 \"nor in the user namespace.\") % target)\n\u001b[0m\u001b[1;32m   3166\u001b[0m \u001b[0;34m\u001b[0m\u001b[0m\n\u001b[1;32m   3167\u001b[0m         \u001b[0;32mif\u001b[0m \u001b[0misinstance\u001b[0m\u001b[0;34m(\u001b[0m\u001b[0mcodeobj\u001b[0m\u001b[0;34m,\u001b[0m \u001b[0mstr\u001b[0m\u001b[0;34m)\u001b[0m\u001b[0;34m:\u001b[0m\u001b[0;34m\u001b[0m\u001b[0m\n",
      "\u001b[0;31mValueError\u001b[0m: 'Solutions/Q22-Interpretation.py' was not found in history, as a file, url, nor in the user namespace."
     ]
    }
   ],
   "source": [
    "%load Solutions/Q22-Interpretation.py"
   ]
  },
  {
   "cell_type": "markdown",
   "metadata": {},
   "source": [
    "### <font color=\"red\">Q2.3 : Pour que le réseau apprenne correctement, il faut que les données envoyées en entrée soient normées et centrées sur zéro. Pourquoi ? </font>"
   ]
  },
  {
   "cell_type": "code",
   "execution_count": null,
   "metadata": {
    "collapsed": true
   },
   "outputs": [],
   "source": [
    "scaler = preprocessing.StandardScaler()\n",
    "normalized_images_train = scaler.fit_transform(images_train)\n",
    "normalized_images_test = scaler.transform(images_test)\n",
    "\n",
    "print(normalized_images_train[0])"
   ]
  },
  {
   "cell_type": "markdown",
   "metadata": {},
   "source": [
    "Nous sommes maintenant prêts pour créer notre réseau de neurones. Nous allons commencer par un réseau de neurones ayant les caractéristiques suivantes : \n",
    "- l'__architecture__ du réseau sera composée de 2 couches de neurones, constituées de 25 neurones pour la première, et de 10 neurones pour la deuxième\n",
    "- la __fonction d'activation__ sera une sigmoïde pour la première couche et un softmax pour la deuxième couche\n",
    "- la __fonction de coût__ sera une fonction logarithmique\n",
    "- la __fonction d'optimisation__ sera Adam\n",
    "- le __pas d'apprentissage__ sera de 0.001    \n",
    "\n",
    "Enfin, on entraînera le réseau de neurones par __batch de 100 images__ avec __20 epochs__"
   ]
  },
  {
   "cell_type": "markdown",
   "metadata": {},
   "source": [
    "### <font color=\"red\">Q2.4 : Pourquoi choisir de telles fonctions d'activation et fonction de coût ? </font>"
   ]
  },
  {
   "cell_type": "code",
   "execution_count": null,
   "metadata": {
    "collapsed": true
   },
   "outputs": [],
   "source": []
  },
  {
   "cell_type": "code",
   "execution_count": null,
   "metadata": {
    "collapsed": true
   },
   "outputs": [],
   "source": [
    "# On définit les paramètres-clés de notre réseau de neurones artificiels\n",
    "n = n_pxl # nombre de prédicteurs (pixels) donnés en entrée du réseau\n",
    "h = 50 # nombre de neurones dans la première couche couche\n",
    "k = 10 # nombre de neurones dans la deuxième (dernière) couche"
   ]
  },
  {
   "cell_type": "code",
   "execution_count": null,
   "metadata": {
    "collapsed": true
   },
   "outputs": [],
   "source": [
    "# On crée notre réseau de neurones artificiels simplement en utilisant l'API de Keras\n",
    "model = Sequential() # initialisation\n",
    "model.add(Dense(h, input_shape = (n,))) # première couche de h neurones, prenant en entrée n prédicteurs (pixels)\n",
    "model.add(Activation('sigmoid')) # fonction d'activation de la première couche\n",
    "model.add(Dense(k)) # deuxième couche de k neurones\n",
    "model.add(Activation('softmax')) # fonction d'activation de la deuxième (dernière) couche\n",
    "model.compile(optimizer=optimizers.adam(lr=0.001), # compilation du réseau de neurones artificiels et définition de\n",
    "              loss='categorical_crossentropy',  # - la fonction de coût à minimiser\n",
    "              metrics=['accuracy'])             # - l'indicateur à afficher"
   ]
  },
  {
   "cell_type": "code",
   "execution_count": null,
   "metadata": {},
   "outputs": [],
   "source": [
    "# Entraînement du réseau de neurones avec les 60000 images de l'échantillon d'entraînement \n",
    "model.fit(normalized_images_train, encoded_labels_train, epochs=40, batch_size=100)"
   ]
  },
  {
   "cell_type": "markdown",
   "metadata": {},
   "source": [
    "### <font color=\"red\">Q2.5 : Améliorez les performances du réseau de neurones en jouant avec ses caractéristiques </font>"
   ]
  },
  {
   "cell_type": "code",
   "execution_count": null,
   "metadata": {
    "collapsed": true
   },
   "outputs": [],
   "source": []
  },
  {
   "cell_type": "markdown",
   "metadata": {},
   "source": [
    "On a maintenant entraîné le réseau de neurones, qui devrait avoir une précision comprise entre 95% et 100% (pourcentage de prédictions correctes sur l'échantillon d'entraînement)."
   ]
  },
  {
   "cell_type": "markdown",
   "metadata": {},
   "source": [
    "Pour mesurer la performance de l'algorithme maintenant entraîné, on le teste sur les 10 000 images de test"
   ]
  },
  {
   "cell_type": "code",
   "execution_count": null,
   "metadata": {},
   "outputs": [],
   "source": [
    "def predict(images, model):\n",
    "    normalized_images = scaler.transform(images)\n",
    "    labels_pred_list = model.predict(normalized_images)\n",
    "    labels_pred = [list(pred).index(max(pred)) for pred in labels_pred_list]\n",
    "    confiance = [max(pred) for pred in labels_pred_list]\n",
    "    return labels_pred, confiance\n",
    "\n",
    "labels_test_pred, confiance = predict(images_test, model)\n",
    "\n",
    "print(\"Le pourcentage de prédictions correctes est de \" + \\\n",
    "      str(round(accuracy_score(np.array(labels_test), labels_test_pred)*100,1)) + \"%\")"
   ]
  },
  {
   "cell_type": "markdown",
   "metadata": {},
   "source": [
    "### <font color=\"red\">Q2.6 : Que remarque-t-on ? Comment améliorer le résultat ?</font>"
   ]
  },
  {
   "cell_type": "code",
   "execution_count": null,
   "metadata": {
    "collapsed": true
   },
   "outputs": [],
   "source": [
    "# %load Solutions/Q26.py"
   ]
  },
  {
   "cell_type": "markdown",
   "metadata": {},
   "source": [
    "Affichons quelques résultats pour vérifier que la plupart des prédictions dont correctes"
   ]
  },
  {
   "cell_type": "code",
   "execution_count": null,
   "metadata": {},
   "outputs": [],
   "source": [
    "random_idx = random.sample(range(n_test), 100)\n",
    "f, axis = plt.subplots(10,10, figsize=(18,25))\n",
    "for i,ax in zip(random_idx, axis.flatten()):\n",
    "    aff_image(image = images_test[i], \\\n",
    "              title = \"Label : \" + str(labels_test[i]) + \\\n",
    "                      \"\\nPrédiction : \" + str(labels_test_pred[i]) + \\\n",
    "                      \"\\nConf : \" + str(round(confiance[i]*100,1)) + \"%\",\n",
    "              ax = ax)\n",
    "    ax.set_axis_off()\n",
    "plt.show()"
   ]
  },
  {
   "cell_type": "markdown",
   "metadata": {},
   "source": [
    "---"
   ]
  },
  {
   "cell_type": "markdown",
   "metadata": {},
   "source": [
    "# Partie 3 - Analyse des résultats"
   ]
  },
  {
   "cell_type": "code",
   "execution_count": null,
   "metadata": {
    "collapsed": true
   },
   "outputs": [],
   "source": [
    "# On importe les librairies dont on aura besoins\n",
    "from collections import Counter, deque # pour compter le nombre d'occurrence des éléments d'une liste"
   ]
  },
  {
   "cell_type": "code",
   "execution_count": null,
   "metadata": {
    "collapsed": true
   },
   "outputs": [],
   "source": [
    "# on sépare les prédictions correctes des prédictions erronées\n",
    "corr_pred_idx = list(list(np.where(np.array(labels_test) - labels_test_pred == 0))[0])\n",
    "err_pred_idx = list(list(np.where(np.array(labels_test) - labels_test_pred != 0))[0])"
   ]
  },
  {
   "cell_type": "markdown",
   "metadata": {},
   "source": [
    "Affichons maintenant quelques résultats incorrects."
   ]
  },
  {
   "cell_type": "code",
   "execution_count": null,
   "metadata": {},
   "outputs": [],
   "source": [
    "random_idx = random.sample(err_pred_idx, min(100, len(err_pred_idx)))\n",
    "f, axis = plt.subplots(10,10, figsize=(18,22))\n",
    "for i,ax in zip(random_idx, axis.flatten()):\n",
    "    aff_image(image = images_test[i], \\\n",
    "              title = \"Label : \" + str(labels_test[i]) + \\\n",
    "                      \"\\nPrédiction : \" + str(labels_test_pred[i]) + \\\n",
    "                      \"\\nConf : \" + str(round(confiance[i]*100,1)) + \"%\",\n",
    "              ax = ax)\n",
    "    ax.set_axis_off()\n",
    "plt.show()"
   ]
  },
  {
   "cell_type": "markdown",
   "metadata": {},
   "source": [
    "### <font color=\"red\">Q3.1 : Quel(s) constat(s) peut-on faire ? Quelle(s) analyse(s) peut-on faire pour comprendre les erreurs de l'IA ?</font>"
   ]
  },
  {
   "cell_type": "code",
   "execution_count": null,
   "metadata": {
    "collapsed": true
   },
   "outputs": [],
   "source": [
    "# %load Solutions/Q31-Part1.py"
   ]
  },
  {
   "cell_type": "code",
   "execution_count": null,
   "metadata": {
    "collapsed": true
   },
   "outputs": [],
   "source": [
    "# %load Solutions/Q31-Part2.py"
   ]
  },
  {
   "cell_type": "code",
   "execution_count": null,
   "metadata": {},
   "outputs": [],
   "source": [
    "ex_label = 5\n",
    "ex_pred = 3\n",
    "random_err_idx = random.choice([err_index for err_index in err_idx_par_chiffre[ex_label] if labels_test_pred[err_index] == ex_pred ])\n",
    "random_err_image = np.array(images_test[random_err_idx])\n",
    "aff_image(image = random_err_image, \\\n",
    "          title = \"Label : \" + str(labels_test[random_err_idx]) + \"\\nPrédiction : \" + str(labels_test_pred[random_err_idx]))\n",
    "plt.show()"
   ]
  },
  {
   "cell_type": "markdown",
   "metadata": {},
   "source": [
    "### <font color=\"red\">Q3.2 : Quelle(s) piste(s) pourrait-on explorer pour améliorer les prédictions de l'IA ?</font>"
   ]
  },
  {
   "cell_type": "code",
   "execution_count": null,
   "metadata": {
    "collapsed": true
   },
   "outputs": [],
   "source": []
  },
  {
   "cell_type": "markdown",
   "metadata": {},
   "source": [
    "### <font color=\"red\">Q3.3 : A partir des intuitions développées dans la partie 1, quels tests peut-on faire pour tester la robustesse de l'algorithme ?</font>\n"
   ]
  },
  {
   "cell_type": "code",
   "execution_count": null,
   "metadata": {
    "collapsed": true
   },
   "outputs": [],
   "source": [
    "# %load Solutions/Q33-Part1.py"
   ]
  },
  {
   "cell_type": "code",
   "execution_count": null,
   "metadata": {
    "collapsed": true
   },
   "outputs": [],
   "source": [
    "# %load Solutions/Q33-Part2.py"
   ]
  },
  {
   "cell_type": "markdown",
   "metadata": {},
   "source": [
    "### <font color=\"red\">Q3.4 : Comment améliorer la robustesse de l'algorithme ?</font>"
   ]
  },
  {
   "cell_type": "code",
   "execution_count": null,
   "metadata": {
    "collapsed": true
   },
   "outputs": [],
   "source": []
  },
  {
   "cell_type": "markdown",
   "metadata": {},
   "source": [
    "### <font color=\"red\">Q3.5 : Si l'on ne parvient pas à améliorer les résultats, que peut-on faire pour prévenir et éviter les erreurs de l'IA ?</font>"
   ]
  },
  {
   "cell_type": "code",
   "execution_count": null,
   "metadata": {},
   "outputs": [],
   "source": [
    "labels_test_pred, confiance = predict(images_test, model)\n",
    "\n",
    "# création de la distribution de confiance\n",
    "confiance_sur_erreur = [confiance[i] for i in err_pred_idx]\n",
    "confiance_sur_correct = [confiance[i] for i in corr_pred_idx]\n",
    "distr_confiance_sur_err = np.histogram(confiance_sur_erreur, [i/100 for i in range(0,101)])\n",
    "distr_confiance_sur_corr = np.histogram(confiance_sur_correct, [i/100 for i in range(0,101)])\n",
    "per_distr_confiance_sur_err = distr_confiance_sur_err[0] / (distr_confiance_sur_corr[0] + distr_confiance_sur_err[0])\n",
    "per_distr_confiance_sur_corr = distr_confiance_sur_corr[0] / (distr_confiance_sur_corr[0] + distr_confiance_sur_err[0])\n",
    "per_distr_confiance_sur_err[np.isnan(per_distr_confiance_sur_err)] = 0\n",
    "per_distr_confiance_sur_corr[np.isnan(per_distr_confiance_sur_corr)] = 0\n",
    "\n",
    "# Visualisation\n",
    "plt.figure(figsize = (20,8))\n",
    "plt.bar(distr_confiance_sur_corr[1][:-1] + 0.0075, per_distr_confiance_sur_err, width=0.008, label = \"erreur\", \\\n",
    "        color = 'red')\n",
    "plt.bar(distr_confiance_sur_corr[1][:-1] + 0.0075, per_distr_confiance_sur_corr, width=0.008, label = \"correct\", \\\n",
    "        bottom=per_distr_confiance_sur_err, color = 'green')\n",
    "plt.xlabel(\"Taux de confiance\")\n",
    "plt.ylabel(\"%age correct / erreur\")\n",
    "plt.xticks([i / 20 for i in range(0,21)])\n",
    "plt.xlim(0.5,1)\n",
    "plt.title(\"Vue des prédictions correctes / erronées par taux de confiance\")\n",
    "plt.legend(loc='upper right')\n",
    "plt.show()"
   ]
  },
  {
   "cell_type": "code",
   "execution_count": null,
   "metadata": {},
   "outputs": [],
   "source": [
    "# Affichae du %age automatisé vs taux d'erreur\n",
    "seuil = 0.97\n",
    "\n",
    "per_automated = round(len(np.where(np.array(confiance) > seuil)[0])/n_test*100,1)\n",
    "nb_error = distr_confiance_sur_err[0][int(-(1-seuil)*100):].sum()\n",
    "nb_correct = distr_confiance_sur_corr[0][int(-(1-seuil)*100):].sum()\n",
    "error_rate = round(nb_error / (nb_error + nb_correct) * 100,1)\n",
    "\n",
    "print(\"En demandant à un humain de traiter manuellement les cas où l'IA est confiante à moins de \" + \\\n",
    "      str(int(seuil*100)) + \"%, on automatisera \" + \\\n",
    "      str(per_automated) + \"% des cas avec un taux d'erreur de l'IA de \" + str(error_rate) + \"%\")"
   ]
  },
  {
   "cell_type": "code",
   "execution_count": null,
   "metadata": {},
   "outputs": [],
   "source": [
    "list_automated = [round(len(np.where(np.array(confiance) > seuil)[0])/n_test*100,1) for seuil in range(50,100)]\n",
    "list_nb_error = [distr_confiance_sur_err[0][int(-(1-seuil/100)*100):].sum() for seuil in range(50,100)]\n",
    "list_nb_correct = [distr_confiance_sur_corr[0][int(-(1-seuil/100)*100):].sum() for seuil in range(50,100)]\n",
    "list_error_rate = [round(list_nb_error[i] / (list_nb_error[i] + list_nb_correct[i]) * 100,1) for i in range(0, 50)]"
   ]
  },
  {
   "cell_type": "code",
   "execution_count": null,
   "metadata": {},
   "outputs": [],
   "source": [
    "plt.bar(left = [i/100 for i in range(0,50)], height = list_error_rate)\n",
    "plt.xlabel(\"Taux de confiance\")\n",
    "plt.ylabel(\"%age correct / erreur\")\n",
    "plt.xlim(0.5,1)\n",
    "plt.show()"
   ]
  },
  {
   "cell_type": "code",
   "execution_count": null,
   "metadata": {},
   "outputs": [],
   "source": []
  },
  {
   "cell_type": "code",
   "execution_count": null,
   "metadata": {},
   "outputs": [],
   "source": [
    "distr_confiance_sur_err"
   ]
  },
  {
   "cell_type": "raw",
   "metadata": {
    "collapsed": true
   },
   "source": [
    "nb_error"
   ]
  },
  {
   "cell_type": "code",
   "execution_count": null,
   "metadata": {},
   "outputs": [],
   "source": [
    "nb_correct"
   ]
  },
  {
   "cell_type": "code",
   "execution_count": null,
   "metadata": {
    "collapsed": true
   },
   "outputs": [],
   "source": []
  }
 ],
 "metadata": {
  "kernelspec": {
   "display_name": "Python 3",
   "language": "python",
   "name": "python3"
  },
  "language_info": {
   "codemirror_mode": {
    "name": "ipython",
    "version": 3
   },
   "file_extension": ".py",
   "mimetype": "text/x-python",
   "name": "python",
   "nbconvert_exporter": "python",
   "pygments_lexer": "ipython3",
   "version": "3.6.2"
  }
 },
 "nbformat": 4,
 "nbformat_minor": 2
}
